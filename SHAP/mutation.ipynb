{
 "cells": [
  {
   "cell_type": "code",
   "execution_count": 13,
   "metadata": {},
   "outputs": [],
   "source": [
    "import os\n",
    "import numpy as np\n",
    "import pandas as pd\n",
    "import lightgbm as lgb\n",
    "import shap\n",
    "import statsmodels.stats.multitest as multi\n",
    "from scipy.stats import pearsonr\n",
    "import joblib\n",
    "import matplotlib.pyplot as plt\n",
    "import seaborn as sns\n",
    "from scipy.stats import kruskal\n",
    "from matplotlib.ticker import MaxNLocator\n",
    "import random\n",
    "from Bio import SeqIO"
   ]
  },
  {
   "cell_type": "code",
   "execution_count": 3,
   "metadata": {},
   "outputs": [
    {
     "data": {
      "text/html": [
       "<div>\n",
       "<style scoped>\n",
       "    .dataframe tbody tr th:only-of-type {\n",
       "        vertical-align: middle;\n",
       "    }\n",
       "\n",
       "    .dataframe tbody tr th {\n",
       "        vertical-align: top;\n",
       "    }\n",
       "\n",
       "    .dataframe thead th {\n",
       "        text-align: right;\n",
       "    }\n",
       "</style>\n",
       "<table border=\"1\" class=\"dataframe\">\n",
       "  <thead>\n",
       "    <tr style=\"text-align: right;\">\n",
       "      <th></th>\n",
       "      <th>mean_abs_shap</th>\n",
       "      <th>pearsonr_r</th>\n",
       "      <th>pearsonr_p</th>\n",
       "      <th>fdr</th>\n",
       "    </tr>\n",
       "  </thead>\n",
       "  <tbody>\n",
       "    <tr>\n",
       "      <th>AAA</th>\n",
       "      <td>0.038855</td>\n",
       "      <td>0.415940</td>\n",
       "      <td>3.961842e-55</td>\n",
       "      <td>1.850180e-52</td>\n",
       "    </tr>\n",
       "    <tr>\n",
       "      <th>AAC</th>\n",
       "      <td>0.059427</td>\n",
       "      <td>-0.670482</td>\n",
       "      <td>3.501988e-169</td>\n",
       "      <td>3.239339e-166</td>\n",
       "    </tr>\n",
       "    <tr>\n",
       "      <th>AAG</th>\n",
       "      <td>0.054567</td>\n",
       "      <td>0.773211</td>\n",
       "      <td>4.787443e-257</td>\n",
       "      <td>5.577371e-254</td>\n",
       "    </tr>\n",
       "    <tr>\n",
       "      <th>AAT</th>\n",
       "      <td>0.053620</td>\n",
       "      <td>-0.277196</td>\n",
       "      <td>3.461019e-24</td>\n",
       "      <td>1.048689e-21</td>\n",
       "    </tr>\n",
       "    <tr>\n",
       "      <th>ACA</th>\n",
       "      <td>0.039691</td>\n",
       "      <td>-0.310678</td>\n",
       "      <td>2.902728e-30</td>\n",
       "      <td>1.004344e-27</td>\n",
       "    </tr>\n",
       "    <tr>\n",
       "      <th>...</th>\n",
       "      <td>...</td>\n",
       "      <td>...</td>\n",
       "      <td>...</td>\n",
       "      <td>...</td>\n",
       "    </tr>\n",
       "    <tr>\n",
       "      <th>TTTGT</th>\n",
       "      <td>0.047631</td>\n",
       "      <td>0.777141</td>\n",
       "      <td>2.563909e-261</td>\n",
       "      <td>3.004901e-258</td>\n",
       "    </tr>\n",
       "    <tr>\n",
       "      <th>TTTTA</th>\n",
       "      <td>0.018986</td>\n",
       "      <td>0.243908</td>\n",
       "      <td>6.312180e-19</td>\n",
       "      <td>1.691664e-16</td>\n",
       "    </tr>\n",
       "    <tr>\n",
       "      <th>TTTTC</th>\n",
       "      <td>0.012936</td>\n",
       "      <td>-0.243139</td>\n",
       "      <td>8.183561e-19</td>\n",
       "      <td>2.185011e-16</td>\n",
       "    </tr>\n",
       "    <tr>\n",
       "      <th>TTTTG</th>\n",
       "      <td>0.026090</td>\n",
       "      <td>-0.052837</td>\n",
       "      <td>5.779853e-02</td>\n",
       "      <td>9.884977e-01</td>\n",
       "    </tr>\n",
       "    <tr>\n",
       "      <th>TTTTT</th>\n",
       "      <td>0.022606</td>\n",
       "      <td>0.533491</td>\n",
       "      <td>8.780574e-96</td>\n",
       "      <td>5.733715e-93</td>\n",
       "    </tr>\n",
       "  </tbody>\n",
       "</table>\n",
       "<p>1344 rows × 4 columns</p>\n",
       "</div>"
      ],
      "text/plain": [
       "       mean_abs_shap  pearsonr_r     pearsonr_p            fdr\n",
       "AAA         0.038855    0.415940   3.961842e-55   1.850180e-52\n",
       "AAC         0.059427   -0.670482  3.501988e-169  3.239339e-166\n",
       "AAG         0.054567    0.773211  4.787443e-257  5.577371e-254\n",
       "AAT         0.053620   -0.277196   3.461019e-24   1.048689e-21\n",
       "ACA         0.039691   -0.310678   2.902728e-30   1.004344e-27\n",
       "...              ...         ...            ...            ...\n",
       "TTTGT       0.047631    0.777141  2.563909e-261  3.004901e-258\n",
       "TTTTA       0.018986    0.243908   6.312180e-19   1.691664e-16\n",
       "TTTTC       0.012936   -0.243139   8.183561e-19   2.185011e-16\n",
       "TTTTG       0.026090   -0.052837   5.779853e-02   9.884977e-01\n",
       "TTTTT       0.022606    0.533491   8.780574e-96   5.733715e-93\n",
       "\n",
       "[1344 rows x 4 columns]"
      ]
     },
     "execution_count": 3,
     "metadata": {},
     "output_type": "execute_result"
    }
   ],
   "source": [
    "kmer_info_df = pd.read_csv('/BioII/lulab_b/huangkeyun/zhangys/RNA_locator/python_scripts/SHAP/circRNA_shap_output/kmer_importance_quantification_info.txt',sep = '\\t', index_col=0)\n",
    "kmer_info_df "
   ]
  },
  {
   "cell_type": "code",
   "execution_count": 4,
   "metadata": {},
   "outputs": [
    {
     "data": {
      "text/plain": [
       "Index(['CGCA', 'GCACT', 'GAGAC'], dtype='object')"
      ]
     },
     "execution_count": 4,
     "metadata": {},
     "output_type": "execute_result"
    }
   ],
   "source": [
    "TOP20_SHAP_kmer = kmer_info_df.sort_values(by = 'mean_abs_shap', ascending=False).head(n = 20)\n",
    "\n",
    "kmer_info_df['abs_pearsonr'] = kmer_info_df['pearsonr_r'].abs()\n",
    "TOP20_pearsonr_kmer = kmer_info_df.sort_values(by = 'abs_pearsonr', ascending=False).head(n = 20)\n",
    "common_index = TOP20_SHAP_kmer.index.intersection(TOP20_pearsonr_kmer.index)\n",
    "common_index"
   ]
  },
  {
   "cell_type": "code",
   "execution_count": 11,
   "metadata": {},
   "outputs": [
    {
     "data": {
      "text/plain": [
       "Index(['CGCAT', 'CGTTA', 'CCGCT', 'TAGGT', 'GCGAT', 'CGCG', 'GCGGT', 'CGTAG',\n",
       "       'GCGCT', 'CGACG'],\n",
       "      dtype='object')"
      ]
     },
     "execution_count": 11,
     "metadata": {},
     "output_type": "execute_result"
    }
   ],
   "source": [
    "# 获取abs shap kmer最低的10个，作为随机突变目标\n",
    "LESS10_SHAP_kmer = kmer_info_df.sort_values(by = 'mean_abs_shap', ascending=True).head(n = 10)\n",
    "LESS20_pearsonr_kmer = kmer_info_df.sort_values(by = 'abs_pearsonr', ascending=True).head(n = 20)\n",
    "LESS10_SHAP_kmer.index"
   ]
  },
  {
   "cell_type": "code",
   "execution_count": 10,
   "metadata": {},
   "outputs": [
    {
     "data": {
      "text/plain": [
       "Index(['AGT', 'TCTAG', 'TACAG', 'CGCA', 'ATAA', 'GTGA', 'GACC', 'TGGC',\n",
       "       'AACTT'],\n",
       "      dtype='object')"
      ]
     },
     "execution_count": 10,
     "metadata": {},
     "output_type": "execute_result"
    }
   ],
   "source": [
    "TOP20_SHAP_kmer[(TOP20_SHAP_kmer['pearsonr_r'] < 0)].index\n"
   ]
  },
  {
   "cell_type": "code",
   "execution_count": 9,
   "metadata": {},
   "outputs": [
    {
     "data": {
      "text/plain": [
       "Index(['CCAAA', 'GCG', 'AAGAC', 'CTTC', 'AACC', 'ATGGT', 'GCACT', 'GTGC',\n",
       "       'TGAG', 'GAGAC', 'CGTA'],\n",
       "      dtype='object')"
      ]
     },
     "execution_count": 9,
     "metadata": {},
     "output_type": "execute_result"
    }
   ],
   "source": [
    "TOP20_SHAP_kmer[(TOP20_SHAP_kmer['pearsonr_r'] > 0)].index"
   ]
  },
  {
   "cell_type": "code",
   "execution_count": 15,
   "metadata": {},
   "outputs": [],
   "source": [
    "# 将正类相关kmer突变\n",
    "input_fasta = \"/BioII/lulab_b/huangkeyun/zhangys/RNA_locator/python_scripts/ML_models/circRNA_ML_Model_Output/test_set_sequences1.fasta\"\n",
    "output_fasta = \"./test_EV_sequences1_mutated.fasta\"\n",
    "\n",
    "high_shap_kmers = ['CCAAA', 'GCG', 'AAGAC', 'CTTC', 'AACC', 'ATGGT', 'GCACT', 'GTGC','TGAG', 'GAGAC', 'CGTA']\n",
    "low_shap_kmers = ['CGCAT', 'CGTTA', 'CCGCT', 'TAGGT', 'GCGAT', 'CGCG', 'GCGGT', 'CGTAG', 'GCGCT', 'CGACG'] \n",
    "\n",
    "random.seed(198)\n",
    "\n",
    "# 工具函数：生成非重叠突变坐标\n",
    "def find_non_overlapping_matches(seq, target_kmers):\n",
    "    matches = []\n",
    "    used = set()\n",
    "    for kmer in target_kmers:\n",
    "        start = 0\n",
    "        while True:\n",
    "            idx = seq.find(kmer, start)\n",
    "            if idx == -1:\n",
    "                break\n",
    "            if all((i not in used) for i in range(idx, idx+len(kmer))):\n",
    "                matches.append((idx, idx+len(kmer), kmer))\n",
    "                used.update(range(idx, idx+len(kmer)))\n",
    "            start = idx + 1\n",
    "    matches.sort()\n",
    "    return matches\n",
    "\n",
    "# 主突变函数\n",
    "def mutate_sequence(seq_str, high_kmers, low_kmers):\n",
    "    matches = find_non_overlapping_matches(seq_str, high_kmers)\n",
    "    seq_list = list(seq_str)\n",
    "    for start, end, kmer in matches:\n",
    "        replacement = random.choice(low_kmers)\n",
    "        # 替换：长度不一致时直接替换start:end为新kmer\n",
    "        seq_list[start:end] = list(replacement)\n",
    "    return ''.join(seq_list)\n",
    "\n",
    "# 读取并突变FASTA\n",
    "mutated_records = []\n",
    "for record in SeqIO.parse(input_fasta, \"fasta\"):\n",
    "    seq = str(record.seq)\n",
    "    mutated_seq = mutate_sequence(seq, high_shap_kmers, low_shap_kmers)\n",
    "    record.seq = mutated_seq\n",
    "    mutated_records.append(record)\n",
    "\n",
    "# 保存突变后的FASTA\n",
    "with open(output_fasta, \"w\") as f:\n",
    "    SeqIO.write(mutated_records, f, \"fasta\")"
   ]
  },
  {
   "cell_type": "code",
   "execution_count": 16,
   "metadata": {},
   "outputs": [],
   "source": [
    "# 将负类相关kmer突变\n",
    "input_fasta = \"/BioII/lulab_b/huangkeyun/zhangys/RNA_locator/python_scripts/ML_models/circRNA_ML_Model_Output/test_set_sequences1.fasta\"\n",
    "output_fasta = \"./test_Cyto_sequences1_mutated.fasta\"\n",
    "\n",
    "high_shap_kmers = ['AGT', 'TCTAG', 'TACAG', 'CGCA', 'ATAA', 'GTGA', 'GACC', 'TGGC','AACTT']\n",
    "low_shap_kmers = ['CGCAT', 'CGTTA', 'CCGCT', 'TAGGT', 'GCGAT', 'CGCG', 'GCGGT', 'CGTAG', 'GCGCT', 'CGACG'] \n",
    "\n",
    "random.seed(198)\n",
    "\n",
    "# 工具函数：生成非重叠突变坐标\n",
    "def find_non_overlapping_matches(seq, target_kmers):\n",
    "    matches = []\n",
    "    used = set()\n",
    "    for kmer in target_kmers:\n",
    "        start = 0\n",
    "        while True:\n",
    "            idx = seq.find(kmer, start)\n",
    "            if idx == -1:\n",
    "                break\n",
    "            if all((i not in used) for i in range(idx, idx+len(kmer))):\n",
    "                matches.append((idx, idx+len(kmer), kmer))\n",
    "                used.update(range(idx, idx+len(kmer)))\n",
    "            start = idx + 1\n",
    "    matches.sort()\n",
    "    return matches\n",
    "\n",
    "# 主突变函数\n",
    "def mutate_sequence(seq_str, high_kmers, low_kmers):\n",
    "    matches = find_non_overlapping_matches(seq_str, high_kmers)\n",
    "    seq_list = list(seq_str)\n",
    "    for start, end, kmer in matches:\n",
    "        replacement = random.choice(low_kmers)\n",
    "        # 替换：长度不一致时直接替换start:end为新kmer\n",
    "        seq_list[start:end] = list(replacement)\n",
    "    return ''.join(seq_list)\n",
    "\n",
    "# 读取并突变FASTA\n",
    "mutated_records = []\n",
    "for record in SeqIO.parse(input_fasta, \"fasta\"):\n",
    "    seq = str(record.seq)\n",
    "    mutated_seq = mutate_sequence(seq, high_shap_kmers, low_shap_kmers)\n",
    "    record.seq = mutated_seq\n",
    "    mutated_records.append(record)\n",
    "\n",
    "# 保存突变后的FASTA\n",
    "with open(output_fasta, \"w\") as f:\n",
    "    SeqIO.write(mutated_records, f, \"fasta\")"
   ]
  }
 ],
 "metadata": {
  "kernelspec": {
   "display_name": "Python 3",
   "language": "python",
   "name": "python3"
  },
  "language_info": {
   "codemirror_mode": {
    "name": "ipython",
    "version": 3
   },
   "file_extension": ".py",
   "mimetype": "text/x-python",
   "name": "python",
   "nbconvert_exporter": "python",
   "pygments_lexer": "ipython3",
   "version": "3.10.12"
  }
 },
 "nbformat": 4,
 "nbformat_minor": 2
}
