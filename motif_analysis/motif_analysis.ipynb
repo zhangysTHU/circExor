{
 "cells": [
  {
   "cell_type": "code",
   "execution_count": 2,
   "metadata": {
    "vscode": {
     "languageId": "shellscript"
    }
   },
   "outputs": [],
   "source": [
    "import pandas as pd\n",
    "from matplotlib import pyplot as plt\n",
    "# from matplotlib_venn import venn3, venn3_circles\n",
    "# from upsetplot import UpSet, from_contents"
   ]
  },
  {
   "cell_type": "code",
   "execution_count": 3,
   "metadata": {
    "vscode": {
     "languageId": "shellscript"
    }
   },
   "outputs": [],
   "source": [
    "# 读四个文件\n",
    "cyto_homo = set(pd.read_csv(\"/lulabdata3/huangkeyun/zhangys/RNA_locator/motif_analysis/Motif_Comparison_Output/homo_final/homo_cyto_favour_motif_final.tsv\", sep=\"\\t\", header=None)[0])\n",
    "ev_homo   = set(pd.read_csv(\"/lulabdata3/huangkeyun/zhangys/RNA_locator/motif_analysis/Motif_Comparison_Output/homo_final/homo_EV_favour_motif_final.tsv\",   sep=\"\\t\", header=None)[0])\n",
    "cyto_mus = set(pd.read_csv(\"/lulabdata3/huangkeyun/zhangys/RNA_locator/motif_analysis/Motif_Comparison_Output/mus_final/mus_cyto_favour_motif_final.tsv\", sep=\"\\t\", header=None)[0])\n",
    "ev_mus  = set(pd.read_csv(\"/lulabdata3/huangkeyun/zhangys/RNA_locator/motif_analysis/Motif_Comparison_Output/mus_final/mus_EV_favour_motif_final.tsv\",  sep=\"\\t\", header=None)[0])\n",
    "\n",
    "# # 用字典形式组织\n",
    "# contents = {\n",
    "#     \"cyto_homo\": cyto_homo,\n",
    "#     \"ev_homo\": ev_homo,\n",
    "#     \"cyto_mus\": cyto_mus,\n",
    "#     \"ev_mus\": ev_mus\n",
    "# }\n",
    "\n",
    "# # UpSet plot 可视化交集\n",
    "# upset_data = from_contents(contents)\n",
    "# UpSet(upset_data).plot()\n",
    "# plt.show()\n"
   ]
  },
  {
   "cell_type": "code",
   "execution_count": 4,
   "metadata": {
    "vscode": {
     "languageId": "shellscript"
    }
   },
   "outputs": [
    {
     "name": "stdout",
     "output_type": "stream",
     "text": [
      "cyto ∩ EV:(mus) {'(Snrpa)_(Homo_sapiens)_(RBD_0.98)', '(U2af2)_(Homo_sapiens)_(RBD_1.00)', '(ENSMUSG00000056951)_(Homo_sapiens)_(RBD_0.99)', '(Zc3h10)_(Homo_sapiens)_(RBD_1.00)', '(Cpeb2)_(Homo_sapiens)_(RBD_1.00)', '(Rbm8a)_(Homo_sapiens)_(RBD_1.00)', '(Cpeb4)_(Homo_sapiens)_(RBD_1.00)', '(Samd4)_(Homo_sapiens)_(RBD_0.95)', '(Elavl2)_(Homo_sapiens)_(RBD_1.00)', '(Rbm4b)_(Homo_sapiens)_(RBD_0.99)', '(Tia1)_(Homo_sapiens)_(RBD_1.00)'}\n",
      "cyto ∩ EV:(mus) {'(Snrpa)_(Homo_sapiens)_(RBD_0.98)', '(U2af2)_(Homo_sapiens)_(RBD_1.00)', '(ENSMUSG00000056951)_(Homo_sapiens)_(RBD_0.99)', '(Zc3h10)_(Homo_sapiens)_(RBD_1.00)', '(Cpeb2)_(Homo_sapiens)_(RBD_1.00)', '(Rbm8a)_(Homo_sapiens)_(RBD_1.00)', '(Cpeb4)_(Homo_sapiens)_(RBD_1.00)', '(Samd4)_(Homo_sapiens)_(RBD_0.95)', '(Elavl2)_(Homo_sapiens)_(RBD_1.00)', '(Rbm4b)_(Homo_sapiens)_(RBD_0.99)', '(Tia1)_(Homo_sapiens)_(RBD_1.00)'}\n"
     ]
    }
   ],
   "source": [
    "print(\"cyto ∩ EV:(mus)\", cyto_mus & ev_mus)\n",
    "print(\"cyto ∩ EV:(mus)\", cyto_mus & ev_mus)"
   ]
  },
  {
   "cell_type": "code",
   "execution_count": 5,
   "metadata": {
    "vscode": {
     "languageId": "shellscript"
    }
   },
   "outputs": [
    {
     "name": "stdout",
     "output_type": "stream",
     "text": [
      "重复的RBP数量: 10\n",
      "\n",
      "重复的RBP列表:\n",
      "['ACO1', 'CPEB2', 'CPEB4', 'ELAVL2', 'RBM4', 'RBM8A', 'SAMD4A', 'SNRPA', 'U2AF2', 'ZC3H10']\n",
      "\n",
      "EV独有的RBP数量: 16\n",
      "\n",
      "EV独有的RBP列表:\n",
      "['(PCBP3)_(Mus_musculus)_(RBD_1.00)', '(SNRPB2)_(Drosophila_melanogaster)_(RBD_0.81)', 'EIF4B', 'Fusip1', 'HNRNPH2', 'LIN28A', 'NONO', 'PABPN1', 'PCBP2', 'PPRC1', 'PTBP1', 'RBM42', 'RBM5', 'RBMY1A1', 'ROD1', 'SRSF9']\n",
      "\n",
      "Cyto独有的RBP数量: 11\n",
      "\n",
      "Cyto独有的RBP列表:\n",
      "['(RBM38)_(Mus_musculus)_(RBD_0.99)', 'BRUNOL5', 'ENOX1', 'FMR1', 'HNRNPC', 'HNRNPCL1', 'RALY', 'RBM41', 'RBM4B', 'TIA1', 'ZNF638']\n"
     ]
    }
   ],
   "source": [
    "# 找出重复的RBP（同时在ev_homo和cyto_homo中出现的）\n",
    "overlap_homo = ev_homo.intersection(cyto_homo)\n",
    "\n",
    "# 找出ev_homo独有的RBP\n",
    "ev_homo_unique = ev_homo - cyto_homo\n",
    "\n",
    "# 找出cyto_homo独有的RBP\n",
    "cyto_homo_unique = cyto_homo - ev_homo\n",
    "\n",
    "print(f\"重复的RBP数量: {len(overlap_homo)}\")\n",
    "print(\"\\n重复的RBP列表:\")\n",
    "print(sorted(list(overlap_homo)))\n",
    "\n",
    "print(f\"\\nEV独有的RBP数量: {len(ev_homo_unique)}\")\n",
    "print(\"\\nEV独有的RBP列表:\")\n",
    "print(sorted(list(ev_homo_unique)))\n",
    "\n",
    "print(f\"\\nCyto独有的RBP数量: {len(cyto_homo_unique)}\")\n",
    "print(\"\\nCyto独有的RBP列表:\")\n",
    "print(sorted(list(cyto_homo_unique)))"
   ]
  },
  {
   "cell_type": "code",
   "execution_count": 6,
   "metadata": {
    "vscode": {
     "languageId": "shellscript"
    }
   },
   "outputs": [
    {
     "name": "stdout",
     "output_type": "stream",
     "text": [
      "重复的RBP数量: 11\n",
      "\n",
      "重复的RBP列表:\n",
      "['(Cpeb2)_(Homo_sapiens)_(RBD_1.00)', '(Cpeb4)_(Homo_sapiens)_(RBD_1.00)', '(ENSMUSG00000056951)_(Homo_sapiens)_(RBD_0.99)', '(Elavl2)_(Homo_sapiens)_(RBD_1.00)', '(Rbm4b)_(Homo_sapiens)_(RBD_0.99)', '(Rbm8a)_(Homo_sapiens)_(RBD_1.00)', '(Samd4)_(Homo_sapiens)_(RBD_0.95)', '(Snrpa)_(Homo_sapiens)_(RBD_0.98)', '(Tia1)_(Homo_sapiens)_(RBD_1.00)', '(U2af2)_(Homo_sapiens)_(RBD_1.00)', '(Zc3h10)_(Homo_sapiens)_(RBD_1.00)']\n",
      "\n",
      "EV独有的RBP数量: 18\n",
      "\n",
      "EV独有的RBP列表:\n",
      "['(Eif4b)_(Homo_sapiens)_(RBD_0.96)', '(Hnrnph2)_(Homo_sapiens)_(RBD_0.99)', '(Lin28a)_(Homo_sapiens)_(RBD_0.99)', '(Lin28b)_(Homo_sapiens)_(RBD_0.83)', '(Nono)_(Homo_sapiens)_(RBD_1.00)', '(Pabpn1)_(Homo_sapiens)_(RBD_1.00)', '(Pcbp2)_(Homo_sapiens)_(RBD_1.00)', '(Pprc1)_(Homo_sapiens)_(RBD_1.00)', '(Ptbp1)_(Homo_sapiens)_(RBD_0.96)', '(Rbm42)_(Homo_sapiens)_(RBD_1.00)', '(Rbm5)_(Homo_sapiens)_(RBD_1.00)', '(Rod1)_(Homo_sapiens)_(RBD_0.80)', '(Sf3b4)_(Danio_rerio)_(RBD_1.00)', '(Snrpb2)_(Drosophila_melanogaster)_(RBD_0.81)', '(Srsf10)_(Homo_sapiens)_(RBD_1.00)', '(Srsf9)_(Homo_sapiens)_(RBD_0.98)', 'Pcbp1', 'Pcbp3']\n",
      "\n",
      "Cyto独有的RBP数量: 7\n",
      "\n",
      "Cyto独有的RBP列表:\n",
      "['(Enox1)_(Homo_sapiens)_(RBD_1.00)', '(Fmr1)_(Homo_sapiens)_(RBD_0.97)', '(Hnrnpc)_(Homo_sapiens)_(RBD_1.00)', '(Raly)_(Homo_sapiens)_(RBD_0.97)', '(Rbm41)_(Homo_sapiens)_(RBD_0.90)', '(Tial1)_(Homo_sapiens)_(RBD_0.89)', 'Rbm38']\n"
     ]
    }
   ],
   "source": [
    "# 找出重复的RBP（同时在ev_mus和cyto_mus中出现的）\n",
    "overlap_mus = ev_mus.intersection(cyto_mus)\n",
    "\n",
    "# 找出ev_mus独有的RBP\n",
    "ev_mus_unique = ev_mus - cyto_mus\n",
    "\n",
    "# 找出cyto_mus独有的RBP\n",
    "cyto_mus_unique = cyto_mus - ev_mus\n",
    "\n",
    "print(f\"重复的RBP数量: {len(overlap_mus)}\")\n",
    "print(\"\\n重复的RBP列表:\")\n",
    "print(sorted(list(overlap_mus)))\n",
    "\n",
    "print(f\"\\nEV独有的RBP数量: {len(ev_mus_unique)}\")\n",
    "print(\"\\nEV独有的RBP列表:\")\n",
    "print(sorted(list(ev_mus_unique)))\n",
    "\n",
    "print(f\"\\nCyto独有的RBP数量: {len(cyto_mus_unique)}\")\n",
    "print(\"\\nCyto独有的RBP列表:\")\n",
    "print(sorted(list(cyto_mus_unique)))"
   ]
  },
  {
   "cell_type": "code",
   "execution_count": null,
   "metadata": {
    "vscode": {
     "languageId": "shellscript"
    }
   },
   "outputs": [],
   "source": []
  }
 ],
 "metadata": {
  "kernelspec": {
   "display_name": "base",
   "language": "python",
   "name": "python3"
  },
  "language_info": {
   "codemirror_mode": {
    "name": "ipython",
    "version": 3
   },
   "file_extension": ".py",
   "mimetype": "text/x-python",
   "name": "python",
   "nbconvert_exporter": "python",
   "pygments_lexer": "ipython3",
   "version": "3.10.12"
  }
 },
 "nbformat": 4,
 "nbformat_minor": 2
}
