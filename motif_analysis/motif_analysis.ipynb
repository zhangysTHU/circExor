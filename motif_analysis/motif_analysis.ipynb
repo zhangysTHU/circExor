{
 "cells": [
  {
   "cell_type": "code",
   "execution_count": 4,
   "metadata": {
    "vscode": {
     "languageId": "shellscript"
    }
   },
   "outputs": [],
   "source": [
    "import pandas as pd\n",
    "from matplotlib import pyplot as plt\n",
    "# from matplotlib_venn import venn3, venn3_circles\n",
    "# from upsetplot import UpSet, from_contents"
   ]
  },
  {
   "cell_type": "code",
   "execution_count": 6,
   "metadata": {
    "vscode": {
     "languageId": "shellscript"
    }
   },
   "outputs": [],
   "source": [
    "# 读四个文件\n",
    "cyto_homo = set(pd.read_csv(\"/lulabdata3/huangkeyun/zhangys/RNA_locator/motif_analysis/Motif_Comparison_Output/homo_final/homo_cyto_favour_motif_final.tsv\", sep=\"\\t\", header=None)[0])\n",
    "ev_homo   = set(pd.read_csv(\"/lulabdata3/huangkeyun/zhangys/RNA_locator/motif_analysis/Motif_Comparison_Output/homo_final/homo_EV_favour_motif_final.tsv\",   sep=\"\\t\", header=None)[0])\n",
    "cyto_mus = set(pd.read_csv(\"/lulabdata3/huangkeyun/zhangys/RNA_locator/motif_analysis/Motif_Comparison_Output/mus_final/mus_cyto_favour_motif_final.tsv\", sep=\"\\t\", header=None)[0])\n",
    "ev_mus  = set(pd.read_csv(\"/lulabdata3/huangkeyun/zhangys/RNA_locator/motif_analysis/Motif_Comparison_Output/mus_final/mus_EV_favour_motif_final.tsv\",  sep=\"\\t\", header=None)[0])\n",
    "\n",
    "# # 用字典形式组织\n",
    "# contents = {\n",
    "#     \"cyto_homo\": cyto_homo,\n",
    "#     \"ev_homo\": ev_homo,\n",
    "#     \"cyto_mus\": cyto_mus,\n",
    "#     \"ev_mus\": ev_mus\n",
    "# }\n",
    "\n",
    "# # UpSet plot 可视化交集\n",
    "# upset_data = from_contents(contents)\n",
    "# UpSet(upset_data).plot()\n",
    "# plt.show()\n"
   ]
  },
  {
   "cell_type": "code",
   "execution_count": null,
   "metadata": {
    "vscode": {
     "languageId": "shellscript"
    }
   },
   "outputs": [
    {
     "name": "stdout",
     "output_type": "stream",
     "text": [
      "cyto ∩ EV:(homo) {'SNRPA', 'ELAVL2', 'CPEB2', 'RBM4', 'ZC3H10', 'SAMD4A', 'ACO1', 'RBM8A', 'CPEB4', 'U2AF2'}\n",
      "cyto ∩ EV:(mus) {'(ENSMUSG00000056951)_(Homo_sapiens)_(RBD_0.99)', '(Samd4)_(Homo_sapiens)_(RBD_0.95)', '(Cpeb2)_(Homo_sapiens)_(RBD_1.00)', '(Rbm4b)_(Homo_sapiens)_(RBD_0.99)', '(Snrpa)_(Homo_sapiens)_(RBD_0.98)', '(Tia1)_(Homo_sapiens)_(RBD_1.00)', '(Cpeb4)_(Homo_sapiens)_(RBD_1.00)', '(Rbm8a)_(Homo_sapiens)_(RBD_1.00)', '(U2af2)_(Homo_sapiens)_(RBD_1.00)', '(Zc3h10)_(Homo_sapiens)_(RBD_1.00)', '(Elavl2)_(Homo_sapiens)_(RBD_1.00)'}\n"
     ]
    }
   ],
   "source": [
    "print(\"cyto ∩ EV:(homo)\", cyto_homo & ev_homo)\n",
    "print(\"cyto ∩ EV:(mus)\", cyto_mus & ev_mus)"
   ]
  },
  {
   "cell_type": "code",
   "execution_count": null,
   "metadata": {
    "vscode": {
     "languageId": "shellscript"
    }
   },
   "outputs": [],
   "source": [
    "print"
   ]
  }
 ],
 "metadata": {
  "kernelspec": {
   "display_name": "base",
   "language": "python",
   "name": "python3"
  },
  "language_info": {
   "codemirror_mode": {
    "name": "ipython",
    "version": 3
   },
   "file_extension": ".py",
   "mimetype": "text/x-python",
   "name": "python",
   "nbconvert_exporter": "python",
   "pygments_lexer": "ipython3",
   "version": "3.10.12"
  }
 },
 "nbformat": 4,
 "nbformat_minor": 2
}
