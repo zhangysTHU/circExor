{
 "cells": [
  {
   "cell_type": "code",
   "execution_count": 1,
   "metadata": {},
   "outputs": [],
   "source": [
    "# Python import\n",
    "import os\n",
    "import copy\n",
    "import random\n",
    "import collections\n",
    "import itertools\n",
    "import numpy as np\n",
    "import pandas as pd\n",
    "import lightgbm as lgb\n",
    "import warnings\n",
    "import joblib\n",
    "from sklearn.model_selection import train_test_split,RandomizedSearchCV\n",
    "import sklearn.metrics as metrics\n",
    "from sklearn.linear_model import LogisticRegression\n",
    "import matplotlib.pyplot as plt\n",
    "from sklearn.impute import SimpleImputer\n",
    "from sklearn.utils import resample\n",
    "import lightgbm as lgb\n",
    "from sklearn import svm\n",
    "from sklearn.ensemble import RandomForestClassifier"
   ]
  },
  {
   "cell_type": "code",
   "execution_count": 4,
   "metadata": {},
   "outputs": [
    {
     "data": {
      "image/png": "[encoded data removed]",
      "text/plain": [
       "<Figure size 700x900 with 1 Axes>"
      ]
     },
     "metadata": {},
     "output_type": "display_data"
    }
   ],
   "source": [
    "models = ['lightGBM', 'RF', 'SVM', 'LR']\n",
    "auroc_values = [0.86, 0.69, 0.55, 0.75]\n",
    "\n",
    "\n",
    "# colors = ['#D32F2F', '#FFEB3B', '#D500F9', '#66BB6A']\n",
    "# colors = ['#4B9E4A', '#6BBF6D', '#99D79A', '#C4E7C6', '#E3F2E3', '#F5FBF5']\n",
    "# colors = ['#DE66C2', '#5096DE', '#DEA13A', '#61DE45']\n",
    "colors = [ (0.8, 0.5, 0.6), (0.5, 0.7, 0.2),  (0.3, 0.6, 0.9), (0.7, 0.4, 0.1)]\n",
    "\n",
    "plt.figure(figsize=(7, 9))\n",
    "bars = plt.bar(models, auroc_values, color=colors, width=0.5, edgecolor='black')\n",
    "plt.ylim([0.0, 1.0])\n",
    "# 添加 AUROC 值标签\n",
    "for bar, value in zip(bars, auroc_values):\n",
    "    plt.text(bar.get_x() + bar.get_width() / 2, bar.get_height() + 0.02, f'{value:.2f}', ha='center', va='bottom', fontsize=12)\n",
    "\n",
    "plt.title('AUROC of Different Models', fontsize=16)\n",
    "plt.xlabel('Models', fontsize=14)\n",
    "plt.ylabel('AUROC', fontsize=14)\n",
    "\n",
    "# 显示图像\n",
    "plt.show()"
   ]
  },
  {
   "cell_type": "code",
   "execution_count": null,
   "metadata": {},
   "outputs": [],
   "source": [
    "# Plot AUROC of multiple models\n",
    "def plot_AUROC(LR_perf, SVM_perf, RF_perf, lightGBM_perf, path):\n",
    "    # Prepare figure and line width\n",
    "    plt.figure(figsize=(10, 10))\n",
    "    lw = 2\n",
    "    \n",
    "    # Define colors with low saturation (RGB format)\n",
    "    colors = {\n",
    "        'LR': (0.7, 0.4, 0.1),  # RGB for LR (low saturation)\n",
    "        'SVM': (0.3, 0.6, 0.9),  # RGB for SVM (low saturation)\n",
    "        'RF': (0.5, 0.7, 0.2),   # RGB for RF (low saturation)\n",
    "        'lightGBM': (0.8, 0.5, 0.6)  # RGB for lightGBM (low saturation)\n",
    "    }\n",
    "    \n",
    "    # Function to plot a single model's AUROC\n",
    "    def plot_single_roc(model_perf, label, color):\n",
    "        roc_auc = model_perf[\"auroc\"]\n",
    "        fpr, tpr, _ = model_perf[\"auroc_curve\"]\n",
    "        plt.plot(fpr, tpr, color=color, lw=lw, label=f'{label} (AUROC = {roc_auc:.2f})')\n",
    "    \n",
    "    # Plot AUROC for each model\n",
    "    plot_single_roc(LR_perf, 'LR', colors['LR'])\n",
    "    plot_single_roc(SVM_perf, 'SVM', colors['SVM'])\n",
    "    plot_single_roc(RF_perf, 'RF', colors['RF'])\n",
    "    plot_single_roc(lightGBM_perf, 'lightGBM', colors['lightGBM'])\n",
    "    \n",
    "    # Plot diagonal line (random classifier)\n",
    "    plt.plot([0, 1], [0, 1], color='navy', lw=lw, linestyle='--')\n",
    "\n",
    "    # Customize the plot\n",
    "    plt.xlim([0.0, 1.0])\n",
    "    plt.ylim([0.0, 1.05])\n",
    "    plt.xlabel(\"False Positive Rate\")\n",
    "    plt.ylabel(\"True Positive Rate\")\n",
    "    plt.title(\"AUROC of Models\")\n",
    "    plt.legend(loc=\"lower right\")\n",
    "    \n",
    "    # Save the plot\n",
    "    plt.savefig(os.path.join(path, \"AUROC_Models.pdf\"), format=\"pdf\")\n",
    "    plt.show()\n"
   ]
  },
  {
   "cell_type": "code",
   "execution_count": 14,
   "metadata": {},
   "outputs": [],
   "source": [
    "# Count the frequency of k-mer in each RNA sequence\n",
    "# k-mer was normalized by total k-mer count of each RNA sequence\n",
    "def _count_kmer(Dataset, k):  # k = 3, 4, 5\n",
    "    \n",
    "    # copy dataset\n",
    "    dataset = copy.deepcopy(Dataset)\n",
    "    # alphabet of nucleotide\n",
    "    nucleotide = ['A', 'C', 'G', 'T']\n",
    "    \n",
    "    # generate k-mers\n",
    "    #  k == 5:\n",
    "    five = list(itertools.product(nucleotide, repeat=5))\n",
    "    pentamer = [''.join(n) for n in five]\n",
    "    \n",
    "    #  k == 4:\n",
    "    four = list(itertools.product(nucleotide, repeat=4))\n",
    "    tetramer = [''.join(n) for n in four]\n",
    "\n",
    "    # k == 3:\n",
    "    three = list(itertools.product(nucleotide, repeat=3))\n",
    "    threemer = [''.join(n) for n in three]\n",
    "    \n",
    "    # input features can be combinations of different k values\n",
    "    if k == 34:\n",
    "        table_kmer = dict.fromkeys(threemer, 0)\n",
    "        table_kmer.update(dict.fromkeys(tetramer, 0))\n",
    "    elif k == 45:\n",
    "        table_kmer = dict.fromkeys(tetramer, 0)\n",
    "        table_kmer.update(dict.fromkeys(pentamer, 0))\n",
    "    elif k == 345:\n",
    "        table_kmer = dict.fromkeys(threemer, 0)\n",
    "        table_kmer.update(dict.fromkeys(tetramer, 0))\n",
    "        table_kmer.update(dict.fromkeys(pentamer, 0))\n",
    "\n",
    "    # count k-mer for each sequence\n",
    "    for mer in table_kmer.keys():\n",
    "        table_kmer[mer] = dataset[\"Sequence\"].apply(lambda x: x.count(mer))\n",
    "    \n",
    "    # for k-mer raw count without normalization, index: nuc:1 or cyto:0\n",
    "    rawcount_kmer_df = pd.DataFrame(table_kmer)\n",
    "    df1_rawcount = pd.concat([rawcount_kmer_df, dataset[\"RNA_Symbol\"]], axis=1)\n",
    "    df1_rawcount.index = dataset[\"tag\"]\n",
    "\n",
    "    # for k-mer frequency with normalization, index: nuc:1 or cyto:0\n",
    "    freq_kmer_df = rawcount_kmer_df.apply(lambda x: x / x.sum(), axis=1)\n",
    "    df1 = pd.concat([freq_kmer_df, dataset[\"RNA_Symbol\"]], axis=1)\n",
    "    df1.index = dataset[\"tag\"]\n",
    "\n",
    "    return df1, df1_rawcount\n"
   ]
  },
  {
   "cell_type": "code",
   "execution_count": null,
   "metadata": {},
   "outputs": [],
   "source": [
    "plot_AUROC(LR_perf, SVM_perf, RF_perf, lightGBM_perf, output_dir)"
   ]
  },
  {
   "cell_type": "code",
   "execution_count": null,
   "metadata": {},
   "outputs": [],
   "source": []
  }
 ],
 "metadata": {
  "kernelspec": {
   "display_name": "Python 3",
   "language": "python",
   "name": "python3"
  },
  "language_info": {
   "codemirror_mode": {
    "name": "ipython",
    "version": 3
   },
   "file_extension": ".py",
   "mimetype": "text/x-python",
   "name": "python",
   "nbconvert_exporter": "python",
   "pygments_lexer": "ipython3",
   "version": "3.10.12"
  }
 },
 "nbformat": 4,
 "nbformat_minor": 2
}
